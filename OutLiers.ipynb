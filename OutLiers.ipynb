{
  "nbformat": 4,
  "nbformat_minor": 0,
  "metadata": {
    "colab": {
      "name": "OutLiers.ipynb",
      "provenance": [],
      "toc_visible": true
    },
    "kernelspec": {
      "name": "python3",
      "display_name": "Python 3"
    }
  },
  "cells": [
    {
      "cell_type": "markdown",
      "metadata": {
        "id": "e7v5vQsDOvxL"
      },
      "source": [
        "# Deteccion de Outliers"
      ]
    },
    {
      "cell_type": "code",
      "metadata": {
        "id": "hxd-vupmLuyX"
      },
      "source": [
        "import numpy as np\n",
        "import pandas as pd\n",
        "import matplotlib.pyplot as plt\n",
        "\n",
        "%matplotlib inline"
      ],
      "execution_count": null,
      "outputs": []
    },
    {
      "cell_type": "code",
      "metadata": {
        "colab": {
          "base_uri": "https://localhost:8080/",
          "height": 204
        },
        "id": "6jOLOKqqQyod",
        "outputId": "cb7e4df0-62ff-4bd3-8f77-e468f907d407"
      },
      "source": [
        "#Importar Datos\n",
        "Rios = pd.read_csv('./data/Rios.csv')\n",
        "Rios.head()"
      ],
      "execution_count": null,
      "outputs": [
        {
          "output_type": "execute_result",
          "data": {
            "text/html": [
              "<div>\n",
              "<style scoped>\n",
              "    .dataframe tbody tr th:only-of-type {\n",
              "        vertical-align: middle;\n",
              "    }\n",
              "\n",
              "    .dataframe tbody tr th {\n",
              "        vertical-align: top;\n",
              "    }\n",
              "\n",
              "    .dataframe thead th {\n",
              "        text-align: right;\n",
              "    }\n",
              "</style>\n",
              "<table border=\"1\" class=\"dataframe\">\n",
              "  <thead>\n",
              "    <tr style=\"text-align: right;\">\n",
              "      <th></th>\n",
              "      <th>Rio</th>\n",
              "      <th>Millas</th>\n",
              "    </tr>\n",
              "  </thead>\n",
              "  <tbody>\n",
              "    <tr>\n",
              "      <th>0</th>\n",
              "      <td>1</td>\n",
              "      <td>735</td>\n",
              "    </tr>\n",
              "    <tr>\n",
              "      <th>1</th>\n",
              "      <td>2</td>\n",
              "      <td>320</td>\n",
              "    </tr>\n",
              "    <tr>\n",
              "      <th>2</th>\n",
              "      <td>3</td>\n",
              "      <td>325</td>\n",
              "    </tr>\n",
              "    <tr>\n",
              "      <th>3</th>\n",
              "      <td>4</td>\n",
              "      <td>392</td>\n",
              "    </tr>\n",
              "    <tr>\n",
              "      <th>4</th>\n",
              "      <td>5</td>\n",
              "      <td>524</td>\n",
              "    </tr>\n",
              "  </tbody>\n",
              "</table>\n",
              "</div>"
            ],
            "text/plain": [
              "   Rio  Millas\n",
              "0    1     735\n",
              "1    2     320\n",
              "2    3     325\n",
              "3    4     392\n",
              "4    5     524"
            ]
          },
          "metadata": {
            "tags": []
          },
          "execution_count": 3
        }
      ]
    },
    {
      "cell_type": "markdown",
      "metadata": {
        "id": "ac9KNdFwR-pn"
      },
      "source": [
        "**Generamos Histograma**"
      ]
    },
    {
      "cell_type": "code",
      "metadata": {
        "colab": {
          "base_uri": "https://localhost:8080/",
          "height": 281
        },
        "id": "iDc2ka13SDpK",
        "outputId": "1cf23efb-5d27-429f-c322-6548af5a764d"
      },
      "source": [
        "plt.title('Rios')\n",
        "plt.hist(Rios['Millas'], edgecolor=\"black\", linewidth=1)\n",
        "plt.show()"
      ],
      "execution_count": null,
      "outputs": [
        {
          "output_type": "display_data",
          "data": {
            "image/png": "[encoded data removed]",
            "text/plain": [
              "<Figure size 432x288 with 1 Axes>"
            ]
          },
          "metadata": {
            "tags": [],
            "needs_background": "light"
          }
        }
      ]
    },
    {
      "cell_type": "markdown",
      "metadata": {
        "id": "-yCxCua_TJoD"
      },
      "source": [
        "**Identificando los Outliers**"
      ]
    },
    {
      "cell_type": "markdown",
      "metadata": {
        "id": "sTfwILMFTOlE"
      },
      "source": [
        "*Se utiliza un grafico de cajas y bigotes para identificar los outliers*"
      ]
    },
    {
      "cell_type": "code",
      "metadata": {
        "colab": {
          "base_uri": "https://localhost:8080/",
          "height": 265
        },
        "id": "52ZZYRq2TaMN",
        "outputId": "604fb75b-6f6e-4394-a181-5b1bc08a623c"
      },
      "source": [
        "plt.boxplot(Rios['Millas'], vert=False)\n",
        "plt.show()"
      ],
      "execution_count": null,
      "outputs": [
        {
          "output_type": "display_data",
          "data": {
            "image/png": "[encoded data removed]",
            "text/plain": [
              "<Figure size 432x288 with 1 Axes>"
            ]
          },
          "metadata": {
            "tags": [],
            "needs_background": "light"
          }
        }
      ]
    },
    {
      "cell_type": "markdown",
      "metadata": {
        "id": "qA5jl6DEWyP3"
      },
      "source": [
        "**Calculamos los Quartiles**"
      ]
    },
    {
      "cell_type": "code",
      "metadata": {
        "colab": {
          "base_uri": "https://localhost:8080/"
        },
        "id": "Yfq6IcZQW2-v",
        "outputId": "0a09e2de-a7d2-4d66-b03c-d384d43a2ab0"
      },
      "source": [
        "q1 = Rios['Millas'].quantile(0.25)\n",
        "print(\"Primer Cuartil\", q1)\n",
        "\n",
        "q3 = Rios['Millas'].quantile(0.75)\n",
        "print(\"Tercer Cuartil\", q3)\n",
        "\n",
        "iqr = q3 - q1\n",
        "print(\"Rango Interquantile\", iqr)\n",
        "\n",
        "mediana = Rios['Millas'].median()\n",
        "print(\"Mediana\" , mediana)\n",
        "\n",
        "valor_minimo = Rios['Millas'].min()\n",
        "print(\"Valor minimo\" , valor_minimo)\n",
        "\n",
        "valor_maximo = Rios['Millas'].max()\n",
        "print(\"Valor maximo\" , valor_maximo)\n"
      ],
      "execution_count": null,
      "outputs": [
        {
          "output_type": "stream",
          "text": [
            "Primer Cuartil 310.0\n",
            "Tercer Cuartil 680.0\n",
            "Rango Interquantile 370.0\n",
            "Mediana 425.0\n",
            "Valor minimo 135\n",
            "Valor maximo 3710\n"
          ],
          "name": "stdout"
        }
      ]
    },
    {
      "cell_type": "markdown",
      "metadata": {
        "id": "BlK5m1T_Zbf6"
      },
      "source": [
        "**Se procede a calcular los valores de los bigotes Inferior y superior**"
      ]
    },
    {
      "cell_type": "code",
      "metadata": {
        "colab": {
          "base_uri": "https://localhost:8080/"
        },
        "id": "qyPIZ3DjZh7E",
        "outputId": "7d96d95d-eb1f-4e66-8ef8-8907760621a1"
      },
      "source": [
        "bigote_inferior = (q1 - 1.5 * iqr)\n",
        "print(\"Valor bigote inferior\", bigote_inferior)\n",
        "\n",
        "bigote_superior = (q3 + 1.5 * iqr)\n",
        "print(\"Valor bigote superior\", bigote_superior)"
      ],
      "execution_count": null,
      "outputs": [
        {
          "output_type": "stream",
          "text": [
            "Valor bigote inferior -245.0\n",
            "Valor bigote superior 1235.0\n"
          ],
          "name": "stdout"
        }
      ]
    },
    {
      "cell_type": "markdown",
      "metadata": {
        "id": "0eNqbYWnar_z"
      },
      "source": [
        "**Ubicacion de Outliers**"
      ]
    },
    {
      "cell_type": "code",
      "metadata": {
        "colab": {
          "base_uri": "https://localhost:8080/"
        },
        "id": "t5D6lLk0awy9",
        "outputId": "8e3cb185-ab4c-459c-f0f3-ade13157fa69"
      },
      "source": [
        "outliers = (Rios['Millas'] < bigote_inferior) | (Rios['Millas'] > bigote_superior)\n",
        "print(\"Ubicacion de outliers \\n\",outliers)"
      ],
      "execution_count": null,
      "outputs": [
        {
          "output_type": "stream",
          "text": [
            "Ubicacion de outliers \n",
            " 0      False\n",
            "1      False\n",
            "2      False\n",
            "3      False\n",
            "4      False\n",
            "       ...  \n",
            "136    False\n",
            "137    False\n",
            "138    False\n",
            "139    False\n",
            "140     True\n",
            "Name: Millas, Length: 141, dtype: bool\n"
          ],
          "name": "stdout"
        }
      ]
    },
    {
      "cell_type": "markdown",
      "metadata": {
        "id": "Br_BgZP5bjhp"
      },
      "source": [
        "**Valores de Outliers**"
      ]
    },
    {
      "cell_type": "code",
      "metadata": {
        "colab": {
          "base_uri": "https://localhost:8080/"
        },
        "id": "Yk961DUxbmIY",
        "outputId": "d961ab55-f0f7-4afb-9221-7a59f451beff"
      },
      "source": [
        "valores_outliers = Rios[outliers]\n",
        "print(\"Listado de valores de Outliers \\n\", valores_outliers)"
      ],
      "execution_count": null,
      "outputs": [
        {
          "output_type": "stream",
          "text": [
            "Listado de valores de Outliers \n",
            "      Rio  Millas\n",
            "6      7    1459\n",
            "22    23    1450\n",
            "24    25    1243\n",
            "65    66    2348\n",
            "67    68    3710\n",
            "68    69    2315\n",
            "69    70    2533\n",
            "82    83    1306\n",
            "97    98    1270\n",
            "100  101    1885\n",
            "140  141    1770\n"
          ],
          "name": "stdout"
        }
      ]
    },
    {
      "cell_type": "markdown",
      "metadata": {
        "id": "9h4QJPKtckww"
      },
      "source": [
        "**Ordenamos los valores**"
      ]
    },
    {
      "cell_type": "code",
      "metadata": {
        "colab": {
          "base_uri": "https://localhost:8080/",
          "height": 390
        },
        "id": "MvVVF1A5cn5F",
        "outputId": "1804ed80-fdfb-4934-c2da-5e5d3d901fd0"
      },
      "source": [
        "valores_ordenados = valores_outliers.sort_values('Millas')\n",
        "valores_ordenados"
      ],
      "execution_count": null,
      "outputs": [
        {
          "output_type": "execute_result",
          "data": {
            "text/html": [
              "<div>\n",
              "<style scoped>\n",
              "    .dataframe tbody tr th:only-of-type {\n",
              "        vertical-align: middle;\n",
              "    }\n",
              "\n",
              "    .dataframe tbody tr th {\n",
              "        vertical-align: top;\n",
              "    }\n",
              "\n",
              "    .dataframe thead th {\n",
              "        text-align: right;\n",
              "    }\n",
              "</style>\n",
              "<table border=\"1\" class=\"dataframe\">\n",
              "  <thead>\n",
              "    <tr style=\"text-align: right;\">\n",
              "      <th></th>\n",
              "      <th>Rio</th>\n",
              "      <th>Millas</th>\n",
              "    </tr>\n",
              "  </thead>\n",
              "  <tbody>\n",
              "    <tr>\n",
              "      <th>24</th>\n",
              "      <td>25</td>\n",
              "      <td>1243</td>\n",
              "    </tr>\n",
              "    <tr>\n",
              "      <th>97</th>\n",
              "      <td>98</td>\n",
              "      <td>1270</td>\n",
              "    </tr>\n",
              "    <tr>\n",
              "      <th>82</th>\n",
              "      <td>83</td>\n",
              "      <td>1306</td>\n",
              "    </tr>\n",
              "    <tr>\n",
              "      <th>22</th>\n",
              "      <td>23</td>\n",
              "      <td>1450</td>\n",
              "    </tr>\n",
              "    <tr>\n",
              "      <th>6</th>\n",
              "      <td>7</td>\n",
              "      <td>1459</td>\n",
              "    </tr>\n",
              "    <tr>\n",
              "      <th>140</th>\n",
              "      <td>141</td>\n",
              "      <td>1770</td>\n",
              "    </tr>\n",
              "    <tr>\n",
              "      <th>100</th>\n",
              "      <td>101</td>\n",
              "      <td>1885</td>\n",
              "    </tr>\n",
              "    <tr>\n",
              "      <th>68</th>\n",
              "      <td>69</td>\n",
              "      <td>2315</td>\n",
              "    </tr>\n",
              "    <tr>\n",
              "      <th>65</th>\n",
              "      <td>66</td>\n",
              "      <td>2348</td>\n",
              "    </tr>\n",
              "    <tr>\n",
              "      <th>69</th>\n",
              "      <td>70</td>\n",
              "      <td>2533</td>\n",
              "    </tr>\n",
              "    <tr>\n",
              "      <th>67</th>\n",
              "      <td>68</td>\n",
              "      <td>3710</td>\n",
              "    </tr>\n",
              "  </tbody>\n",
              "</table>\n",
              "</div>"
            ],
            "text/plain": [
              "     Rio  Millas\n",
              "24    25    1243\n",
              "97    98    1270\n",
              "82    83    1306\n",
              "22    23    1450\n",
              "6      7    1459\n",
              "140  141    1770\n",
              "100  101    1885\n",
              "68    69    2315\n",
              "65    66    2348\n",
              "69    70    2533\n",
              "67    68    3710"
            ]
          },
          "metadata": {
            "tags": []
          },
          "execution_count": 19
        }
      ]
    },
    {
      "cell_type": "code",
      "metadata": {
        "colab": {
          "base_uri": "https://localhost:8080/",
          "height": 419
        },
        "id": "LuJ-eLNEdLnZ",
        "outputId": "3b1b7923-9b2e-48e6-e1d2-65e21474a673"
      },
      "source": [
        "encontrar_sin_outliers = (Rios['Millas'] >= bigote_inferior) & (Rios['Millas'] <= bigote_superior)\n",
        "valores_sin_outliers = Rios[encontrar_sin_outliers]\n",
        "valores_sin_outliers"
      ],
      "execution_count": null,
      "outputs": [
        {
          "output_type": "execute_result",
          "data": {
            "text/html": [
              "<div>\n",
              "<style scoped>\n",
              "    .dataframe tbody tr th:only-of-type {\n",
              "        vertical-align: middle;\n",
              "    }\n",
              "\n",
              "    .dataframe tbody tr th {\n",
              "        vertical-align: top;\n",
              "    }\n",
              "\n",
              "    .dataframe thead th {\n",
              "        text-align: right;\n",
              "    }\n",
              "</style>\n",
              "<table border=\"1\" class=\"dataframe\">\n",
              "  <thead>\n",
              "    <tr style=\"text-align: right;\">\n",
              "      <th></th>\n",
              "      <th>Rio</th>\n",
              "      <th>Millas</th>\n",
              "    </tr>\n",
              "  </thead>\n",
              "  <tbody>\n",
              "    <tr>\n",
              "      <th>0</th>\n",
              "      <td>1</td>\n",
              "      <td>735</td>\n",
              "    </tr>\n",
              "    <tr>\n",
              "      <th>1</th>\n",
              "      <td>2</td>\n",
              "      <td>320</td>\n",
              "    </tr>\n",
              "    <tr>\n",
              "      <th>2</th>\n",
              "      <td>3</td>\n",
              "      <td>325</td>\n",
              "    </tr>\n",
              "    <tr>\n",
              "      <th>3</th>\n",
              "      <td>4</td>\n",
              "      <td>392</td>\n",
              "    </tr>\n",
              "    <tr>\n",
              "      <th>4</th>\n",
              "      <td>5</td>\n",
              "      <td>524</td>\n",
              "    </tr>\n",
              "    <tr>\n",
              "      <th>...</th>\n",
              "      <td>...</td>\n",
              "      <td>...</td>\n",
              "    </tr>\n",
              "    <tr>\n",
              "      <th>135</th>\n",
              "      <td>136</td>\n",
              "      <td>500</td>\n",
              "    </tr>\n",
              "    <tr>\n",
              "      <th>136</th>\n",
              "      <td>137</td>\n",
              "      <td>720</td>\n",
              "    </tr>\n",
              "    <tr>\n",
              "      <th>137</th>\n",
              "      <td>138</td>\n",
              "      <td>270</td>\n",
              "    </tr>\n",
              "    <tr>\n",
              "      <th>138</th>\n",
              "      <td>139</td>\n",
              "      <td>430</td>\n",
              "    </tr>\n",
              "    <tr>\n",
              "      <th>139</th>\n",
              "      <td>140</td>\n",
              "      <td>671</td>\n",
              "    </tr>\n",
              "  </tbody>\n",
              "</table>\n",
              "<p>130 rows × 2 columns</p>\n",
              "</div>"
            ],
            "text/plain": [
              "     Rio  Millas\n",
              "0      1     735\n",
              "1      2     320\n",
              "2      3     325\n",
              "3      4     392\n",
              "4      5     524\n",
              "..   ...     ...\n",
              "135  136     500\n",
              "136  137     720\n",
              "137  138     270\n",
              "138  139     430\n",
              "139  140     671\n",
              "\n",
              "[130 rows x 2 columns]"
            ]
          },
          "metadata": {
            "tags": []
          },
          "execution_count": 26
        }
      ]
    },
    {
      "cell_type": "markdown",
      "metadata": {
        "id": "Z7xfgns0eclr"
      },
      "source": [
        "**Se procede a identificar si se cuenta con mas outliers**"
      ]
    },
    {
      "cell_type": "code",
      "metadata": {
        "colab": {
          "base_uri": "https://localhost:8080/",
          "height": 265
        },
        "id": "Z9kNblMZehy0",
        "outputId": "dc9cd5c5-a067-444d-c22f-02fcd42cf758"
      },
      "source": [
        "plt.boxplot(valores_sin_outliers['Millas'], vert=False)\n",
        "plt.show()"
      ],
      "execution_count": null,
      "outputs": [
        {
          "output_type": "display_data",
          "data": {
            "image/png": "[encoded data removed]",
            "text/plain": [
              "<Figure size 432x288 with 1 Axes>"
            ]
          },
          "metadata": {
            "tags": [],
            "needs_background": "light"
          }
        }
      ]
    }
  ]
}